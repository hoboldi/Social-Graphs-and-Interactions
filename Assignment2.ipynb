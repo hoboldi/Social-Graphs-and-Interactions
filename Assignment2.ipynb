{
 "cells": [
  {
   "cell_type": "markdown",
   "metadata": {},
   "source": [
    "# Formalia:\n",
    "\n",
    "Please read the [assignment overview page](https://github.com/suneman/socialgraphs2025/wiki/Assignments) carefully before proceeding. This page contains information about formatting (including formats etc), group sizes, and many other aspects of handing in the assignment. \n",
    "\n",
    "_If you fail to follow those simple instructions, it will negatively impact your grade!_\n",
    "\n",
    "**Due date and time**: The assignment is due on Tuesday November 4th, 2025 at 23:55. Hand in your IPython notebook file (with extension `.ipynb`) via DTU Learn\n",
    "\n",
    "In the exercises below, I describe the exercises in a general way. Drawing in the right parts of the exercises is part of the assignment. (That way we're helping you get a little bit more ready for the Final Project, where you have to decide what information to include in your report and analysis).\n"
   ]
  },
  {
   "metadata": {},
   "cell_type": "markdown",
   "source": [
    "# Part 0: Common Code\n",
    "In this part we define some functions and variables necessary for more parts of the exercises.\n",
    "We also import the necessary packages."
   ]
  },
  {
   "metadata": {
    "ExecuteTime": {
     "end_time": "2025-10-31T15:14:14.805151Z",
     "start_time": "2025-10-31T15:14:14.557023Z"
    }
   },
   "cell_type": "code",
   "source": [
    "import networkx as nx\n",
    "import pickle\n",
    "import requests\n",
    "from io import BytesIO\n",
    "import re\n",
    "import html\n",
    "from collections import Counter\n",
    "import math\n",
    "import numpy as np\n",
    "import matplotlib.pyplot as plt\n",
    "from scipy.special import lmbda"
   ],
   "outputs": [],
   "execution_count": 174
  },
  {
   "metadata": {},
   "cell_type": "markdown",
   "source": [
    "# Part 1: Analyze the network\n",
    "\n",
    "The questions in this part are based on Lecture 5.\n",
    "\n",
    "* Present an analysis/description of the network of bands/artists using tools from Lecture 5. Imagine that you have been tasked with presenting the important facts about the network to an audience who knows about network science, but doesn't know about this particular network.\n",
    "   - It's OK to also use basic concepts like degree distributions (even though they're from week 4) in your analysis. That way you can make the analysis a standalone, coherent thing.\n",
    "   - I would like you to include concepts like centrality and assortativity in your analysis.\n",
    "   - Use a network backbone in your analysis.\n",
    "   - In addition to standard distribution plots (e.g. degree distributions, etc), your analysis should also include at least one network visualization (but it doesn't have to display the entire network, you can also visualize a network backbone).\n",
    "   - **Note**: As I write above, an important part of the exercise consists is *selecting the right elements of the lecture* to create a meaningful analysis. So don't solve this part by going exhaustive and just calculating everything you can think of in one massive analysis. Try to focus on using what you've learned to characterize the network."
   ]
  },
  {
   "metadata": {},
   "cell_type": "markdown",
   "source": [
    "# Part 2: Genres and communities and plotting\n",
    "\n",
    "The questions below are based on Lecture 7, part 2.\n",
    "\n",
    "* Write about genres and modularity.\n",
    "* Detect the communities, discuss the value of modularity in comparison to the genres.\n",
    "* Calculate the matrix $D$ and discuss your findings.\n",
    "* Plot the communities and comment on your results."
   ]
  },
  {
   "metadata": {},
   "cell_type": "markdown",
   "source": [
    "# Part 3: TF-IDF to understand genres and communities\n",
    "\n",
    "The questions below  are based on Lecture 7, part 2, 4, 5, 6 (and a little bit on part 3).\n",
    "\n",
    "* Explain the concept of TF-IDF in your own words and how it can help you understand the genres and communities.\n",
    "* Calculate and visualize TF-IDF for the genres and communities.\n",
    "* Use the matrix $D$ (Lecture 7, part 2) to dicusss the difference between the word-clouds between genres and communities.\n"
   ]
  },
  {
   "metadata": {},
   "cell_type": "markdown",
   "source": [
    "# Part 4: Sentiment of the artists and communities\n",
    "\n",
    "The questions below are based on Lecture 8\n",
    "\n",
    "* Calculate the sentiment of the band/artist pages (it is OK to work with the sub-network of artists-with-genre) and describe your findings using stats and visualization, inspired by the first exercise of week 8.\n",
    "* Discuss the sentiment of the communities. Do the findings using TF-IDF during Lecture 7 help you understand your results?"
   ]
  },
  {
   "metadata": {},
   "cell_type": "markdown",
   "source": [
    "## Part 4.1: Calculate the sentiment of the Artist Pages\n",
    "### Part 4.1.1: Getting the Wikitext\n",
    "- This is probably not the most intuitive way to get the wikitext, but from the graph we can easily retrieve the name of the Wiki-pages."
   ]
  },
  {
   "metadata": {
    "ExecuteTime": {
     "end_time": "2025-10-31T14:59:08.334239Z",
     "start_time": "2025-10-31T14:59:07.890846Z"
    }
   },
   "cell_type": "code",
   "source": [
    "url = 'https://raw.githubusercontent.com/hoboldi/Social-Graphs-and-Interactions/main/Misc/MusicianGraph.pickle'\n",
    "r = requests.get(url)\n",
    "r.raise_for_status()\n",
    "\n",
    "G = pickle.load(BytesIO(r.content))\n",
    "print(G)"
   ],
   "outputs": [
    {
     "name": "stdout",
     "output_type": "stream",
     "text": [
      "DiGraph with 483 nodes and 7007 edges\n"
     ]
    }
   ],
   "execution_count": 140
  },
  {
   "metadata": {},
   "cell_type": "markdown",
   "source": [
    "- Based on the names of the nodes, we retrieve the Wiki-pages.\n",
    "- We also save these Wiki-pages for convenience as the many calls to the website can take a long time, so for the convenience of the grader we pickled them."
   ]
  },
  {
   "metadata": {
    "ExecuteTime": {
     "end_time": "2025-10-31T15:03:05.029433Z",
     "start_time": "2025-10-31T14:59:08.348803Z"
    }
   },
   "cell_type": "code",
   "source": [
    "# Get the name of the artists\n",
    "artists = list(G.nodes())\n",
    "print(artists[:10])\n",
    "\n",
    "# Define API and HEADERS\n",
    "API = \"https://en.wikipedia.org/w/api.php\"\n",
    "HEADERS = {\"User-Agent\": \"MyWikipediaClient/1.0 (example@example.com)\"}\n",
    "\n",
    "# This method is based on this: https://stackoverflow.com/a/62225015 and this line was partly done with ChatGPT data[\"query\"][\"pages\"][0][\"revisions\"][0][\"slots\"][\"main\"][\"content\"].\n",
    "def get_wikitext(title: str) -> str:\n",
    "    params = {\n",
    "        \"action\": \"query\",\n",
    "        \"prop\": \"revisions\",\n",
    "        \"titles\": title,\n",
    "        \"rvslots\": \"main\",\n",
    "        \"rvprop\": \"content\",\n",
    "        \"format\": \"json\",\n",
    "        \"formatversion\": \"2\",\n",
    "    }\n",
    "\n",
    "    response = requests.get(API, params=params, headers=HEADERS, timeout=20)\n",
    "    response.raise_for_status()\n",
    "\n",
    "    data = response.json()\n",
    "\n",
    "    return data[\"query\"][\"pages\"][0][\"revisions\"][0][\"slots\"][\"main\"][\"content\"]\n",
    "\n",
    "artist_pages = {}\n",
    "\n",
    "for artist in artists:\n",
    "    artist_pages[artist] = get_wikitext(artist)\n",
    "\n",
    "with open('Misc/ArtistPages.pickle', 'wb') as f:\n",
    "    pickle.dump(artist_pages, f)\n",
    "\n",
    "print(list(artist_pages.values())[0][:10])"
   ],
   "outputs": [
    {
     "name": "stdout",
     "output_type": "stream",
     "text": [
      "['Funkadelic', 'Parliament-Funkadelic', 'AllMusic', 'Jimi_Hendrix', 'Sly_and_the_Family_Stone', 'Cream_(band)|Cream', 'Slayer', 'Metallica', 'Megadeth', 'Anthrax_(American_band)|Anthrax']\n",
      "{{short de\n"
     ]
    }
   ],
   "execution_count": 141
  },
  {
   "metadata": {},
   "cell_type": "markdown",
   "source": "- To avoid the long runtime, with this we can load the ArtistPages faster. (This still takes a good 30s, but much better than the 5m of the other version.)"
  },
  {
   "metadata": {
    "ExecuteTime": {
     "end_time": "2025-10-31T15:08:25.153438Z",
     "start_time": "2025-10-31T15:08:08.402625Z"
    }
   },
   "cell_type": "code",
   "source": [
    "url = \"https://raw.githubusercontent.com/hoboldi/Social-Graphs-and-Interactions/main/Misc/ArtistPages.pickle\"\n",
    "artist_pages = pickle.load(BytesIO(requests.get(url).content))\n",
    "\n",
    "print(list(artist_pages.values())[0][:10])"
   ],
   "outputs": [
    {
     "name": "stdout",
     "output_type": "stream",
     "text": [
      "{{short de\n"
     ]
    }
   ],
   "execution_count": 162
  },
  {
   "metadata": {},
   "cell_type": "markdown",
   "source": [
    "## Part 4.1.2: Tokenizing the texts\n",
    "- In this part we convert the raw wikitext to tokenized version.\n",
    "- This part (as recommended) was done with the help of ChatGPT."
   ]
  },
  {
   "metadata": {
    "ExecuteTime": {
     "end_time": "2025-10-31T15:08:34.139695Z",
     "start_time": "2025-10-31T15:08:34.134446Z"
    }
   },
   "cell_type": "code",
   "source": [
    "# In this part we define some regular expressions for filtering out specific wikitext (and html) elements.\n",
    "\n",
    "# Filter out comments.\n",
    "RE_COMMENTS   = re.compile(r'<!--.*?-->', flags=re.DOTALL)\n",
    "# Filter out citations (refs).\n",
    "RE_REF_TAGS   = re.compile(r'<ref[^>]*>.*?</ref>|<ref[^>]*/>', flags=re.DOTALL|re.IGNORECASE)\n",
    "# Filter out HTML tags.\n",
    "RE_HTML_TAGS  = re.compile(r'</?[^>]+?>', flags=re.DOTALL)\n",
    "# Filter out non-nested templates. (flag moved to flags=...)\n",
    "RE_TEMPLATES  = re.compile(r'\\{\\{[^{}]*\\}\\}', flags=re.DOTALL)\n",
    "# Filter out tables.\n",
    "RE_TABLES     = re.compile(r'\\{\\|.*?\\|\\}', flags=re.DOTALL)\n",
    "# Filter out file tags.\n",
    "RE_FILES      = re.compile(r'\\[\\[(?:File|Image):[^\\]]+\\]\\]', flags=re.IGNORECASE)\n",
    "# Filter out external links.\n",
    "RE_EXTLINKS   = re.compile(r'\\[(?:https?://|ftp://)[^\\s\\]]+(?:\\s+[^\\]]+)?\\]')\n",
    "# Filter out internal links.\n",
    "RE_LINKS      = re.compile(r'\\[\\[([^[\\]|#]+)(?:#[^\\]|]+)?(?:\\|([^\\]]+))?\\]\\]')\n",
    "# Filter out headings.\n",
    "RE_HEADING    = re.compile(r'^\\s*=+[^=\\n]+?=+\\s*$', flags=re.MULTILINE)\n",
    "# Filter out formatting.\n",
    "RE_FORMATTING = re.compile(r\"'''+|''\")\n",
    "# Filter out list/definition prefixes.\n",
    "RE_LIST_BUL   = re.compile(r'^[*#;:]+', flags=re.MULTILINE)\n",
    "# Filter out remaining parts of tables.\n",
    "RE_TABLE_ROWS = re.compile(r'^\\s*\\|\\+.*$|^\\s*\\|[-!].*$', flags=re.MULTILINE)\n",
    "# Filter out raw urls.\n",
    "RE_URLS       = re.compile(r'(?:https?://|ftp://)\\S+')\n",
    "# Filter out HTML entities.\n",
    "RE_ENTITY     = re.compile(r'&[A-Za-z#0-9]+;')\n",
    "\n",
    "# A lambda expression to split a text into words.\n",
    "WORD_SPLIT = lambda s: re.findall(r'[A-Za-z]+', s)\n",
    "\n",
    "# This function removes nested \"{{...}}\" templates by applying regex until nothing changes.\n",
    "def _strip_templates(text: str) -> str:\n",
    "    prev = None\n",
    "    while prev != text:\n",
    "        prev = text\n",
    "        text = RE_TEMPLATES.sub('', text)\n",
    "    return text\n",
    "\n",
    "# This function converts a wikitext into simple text.\n",
    "def wikitext_to_words(text: str, lower: bool = True) -> list[str]:\n",
    "    if not text:\n",
    "        return []\n",
    "\n",
    "    if lower:\n",
    "        text = text.casefold()\n",
    "\n",
    "    # Apply the previously defined regexes.\n",
    "    text = RE_COMMENTS.sub(' ', text)\n",
    "    text = RE_REF_TAGS.sub(' ', text)\n",
    "    text = RE_TABLES.sub(' ', text)\n",
    "    text = _strip_templates(text)\n",
    "    text = RE_FILES.sub(' ', text)\n",
    "    text = RE_EXTLINKS.sub(' ', text)\n",
    "    text = RE_HTML_TAGS.sub(' ', text)\n",
    "\n",
    "    # Remove the text of links.\n",
    "    def _keep_link(m):\n",
    "        target, disp = m.group(1), m.group(2)\n",
    "        return disp if disp else target\n",
    "    text = RE_LINKS.sub(_keep_link, text)\n",
    "\n",
    "    # Apply another batch of previously defined filters.\n",
    "    text = RE_HEADING.sub(' ', text)\n",
    "    text = RE_LIST_BUL.sub(' ', text)\n",
    "    text = RE_TABLE_ROWS.sub(' ', text)\n",
    "    text = RE_FORMATTING.sub(' ', text)\n",
    "    text = RE_URLS.sub(' ', text)\n",
    "    text = RE_ENTITY.sub(lambda m: html.unescape(m.group(0)), text)\n",
    "\n",
    "    # Collapse whitespace.\n",
    "    text = ' '.join(text.split())\n",
    "\n",
    "    words = WORD_SPLIT(text)\n",
    "    if lower:\n",
    "        words = [w.lower() for w in words]\n",
    "\n",
    "    return words"
   ],
   "outputs": [],
   "execution_count": 163
  },
  {
   "metadata": {},
   "cell_type": "markdown",
   "source": "- Applying this function to our wikitext pages."
  },
  {
   "metadata": {
    "ExecuteTime": {
     "end_time": "2025-10-31T15:08:39.003577Z",
     "start_time": "2025-10-31T15:08:37.965259Z"
    }
   },
   "cell_type": "code",
   "source": [
    "text_pages = {artist: wikitext_to_words(page) for artist, page in artist_pages.items()}\n",
    "\n",
    "print(list(text_pages.values())[0][:20])"
   ],
   "outputs": [
    {
     "name": "stdout",
     "output_type": "stream",
     "text": [
      "['funkadelic', 'was', 'an', 'american', 'funk', 'rock', 'funkadelic', 'initially', 'formed', 'as', 'a', 'backing', 'band', 'for', 'clinton', 's', 'vocal', 'group', 'the', 'parliaments']\n"
     ]
    }
   ],
   "execution_count": 164
  },
  {
   "metadata": {},
   "cell_type": "markdown",
   "source": "- After we tokenized the text we can sum the counts."
  },
  {
   "metadata": {
    "ExecuteTime": {
     "end_time": "2025-10-31T15:08:40.413855Z",
     "start_time": "2025-10-31T15:08:40.304961Z"
    }
   },
   "cell_type": "code",
   "source": [
    "tokenized_pages = {artist: Counter(text) for artist, text in text_pages.items()}\n",
    "\n",
    "print(list(tokenized_pages.values())[0].most_common(20))"
   ],
   "outputs": [
    {
     "name": "stdout",
     "output_type": "stream",
     "text": [
      "dict_keys(['Funkadelic', 'Parliament-Funkadelic', 'AllMusic', 'Jimi_Hendrix', 'Sly_and_the_Family_Stone', 'Cream_(band)|Cream', 'Slayer', 'Metallica', 'Megadeth', 'Anthrax_(American_band)|Anthrax', 'Iron_Maiden', 'Black_Sabbath', 'Judas_Priest', 'Scorpions_(band)|Scorpions', 'Motörhead', 'Alice_in_Chains', 'Ozzy_Osbourne', 'Sepultura', 'Pantera', 'Tool_(band)|Tool', 'Slipknot_(band)|Slipknot', 'Lamb_of_God_(band)|Lamb_of_God', 'Trivium_(band)|Trivium', 'Primus_(band)|Primus', 'Volbeat', 'Led_Zeppelin', 'Deep_Purple', 'Kiss_(band)|Kiss', 'Van_Halen', 'Aerosmith', 'Ted_Nugent', 'Rush_(band)|Rush', 'Rainbow_(rock_band)|Rainbow', 'Accept_(band)|Accept', 'Avenged_Sevenfold', 'Bullet_for_My_Valentine', 'System_of_a_Down', 'Killswitch_Engage', 'Lacuna_Coil', 'Flyleaf_(band)|Flyleaf', 'Skillet_(band)|Skillet', 'Breaking_Benjamin', 'Staind', '3_Doors_Down', \"Jane's_Addiction\", 'Disturbed_(band)|Disturbed', 'Stone_Sour', 'Three_Days_Grace', 'Seether', '10_Years_(band)|10_Years', 'P.O.D.', 'rock_music', 'Damn_Yankees_(band)|Damn_Yankees', 'Meat_Loaf', 'Chuck_Berry', 'Bo_Diddley', 'Little_Richard', 'Frank_Zappa', 'Styx_(band)|Styx', 'Mitch_Ryder', 'Stone_Temple_Pilots', 'Ramones', 'Pearl_Jam', 'Skid_Row_(American_band)|Skid_Row', 'Foreigner_(band)|Foreigner', 'Nickelback', 'Kid_Rock', 'Paul_McCartney', 'Great_White', 'Mötley_Crüe', 'Whitesnake', \"Guns_N'_Roses\", 'Twisted_Sister', 'Warrant_(American_band)|Warrant', 'Bon_Jovi', 'Ratt', 'Tesla_(band)|Tesla', 'Alice_Cooper', 'Poison_(American_band)|Poison', 'Quiet_Riot', 'Royal_Blood_(band)|Royal_Blood', 'Days_of_the_New', 'Train_(band)|Train', 'Dave_Matthews_Band', 'Finger_Eleven', 'Creed_(band)|Creed', 'Velvet_Revolver', 'The_Dave_Clark_Five', 'Manfred_Mann', 'Elton_John', 'John_Fogerty', 'John_Mellencamp', 'Billy_Joel', 'Deftones', 'Korn', 'Radiohead', 'Limp_Bizkit', 'Faith_No_More', 'Queen_(band)|Queen', 'White_Zombie_(band)|White_Zombie', 'The_Clash', 'Beastie_Boys', 'Run-DMC', 'Nine_Inch_Nails', 'Bruce_Springsteen', 'The_Cure', 'Mudvayne', 'Jimmy_Eat_World', 'Pixies_(band)|Pixies', 'Foo_Fighters', 'Green_Day', 'Nirvana_(band)|Nirvana', 'Garbage_(band)|Garbage', 'The_Smashing_Pumpkins', 'My_Chemical_Romance', 'Flogging_Molly', 'Asia_(band)|Asia', 'Weezer', 'The_All-American_Rejects', 'Dropkick_Murphys', 'Social_Distortion', 'The_Offspring', 'Simple_Plan', 'Blink-182', 'Good_Charlotte', 'Avril_Lavigne', 'Cheap_Trick', 'Black_Veil_Brides', 'Sum_41', 'Boys_Like_Girls', 'Bowling_for_Soup', 'AC_DC', 'Joe_Walsh', 'Eagles_(band)|Eagles', 'Eric_Clapton', 'Peter_Frampton', 'Don_Henley', 'Glenn_Frey', 'Fleetwood_Mac', 'Stevie_Nicks', 'Survivor_(band)|Survivor', 'Ringo_Starr', 'Dan_Fogelberg', 'America_(band)|America', 'REO_Speedwagon', 'Emerson,_Lake_&_Palmer', 'Steve_Winwood', 'Roy_Orbison', 'Faces_(band)|Faces', 'Hoobastank', 'Incubus_(band)|Incubus', 'Linkin_Park', 'Eddie_Money', 'David_Bowie', 'Van_Morrison', 'Santana_(band)|Santana', 'Kenny_Loggins', 'Cinderella_(band)|Cinderella', 'John_Lennon', 'Jim_Croce', 'Def_Leppard', 'New_York_Dolls', 'Soundgarden', 'Beck', 'Oasis_(band)|Oasis', 'Joe_Satriani', 'Alter_Bridge', 'Neil_Young', 'Red_Hot_Chili_Peppers', 'U2', 'Tom_Petty', 'Sex_Pistols', 'Electric_Light_Orchestra', 'Paul_McCartney_and_Wings|Wings', 'Fall_Out_Boy', 'Buckcherry', 'Hinder', 'Roxy_Music', 'Bryan_Ferry', 'Pink_Floyd', 'Bob_Dylan', 'Elvis_Presley', 'Duran_Duran', 'Simple_Minds', 'Talking_Heads', 'Echo_&_the_Bunnymen', 'The_Velvet_Underground', 'Eddie_Cochran', 'Franz_Ferdinand_(band)|Franz_Ferdinand', 'Depeche_Mode', 'The_Who', 'Marilyn_Manson', 'Alanis_Morissette', 'Filter_(band)|Filter', 'Chevelle_(band)|Chevelle', 'Rage_Against_the_Machine', 'R.E.M.', 'Midnight_Oil', 'Creedence_Clearwater_Revival', 'Jethro_Tull_(band)|Jethro_Tull', 'Yes_(band)|Yes', 'The_Rolling_Stones', 'The_Jam', 'Peter_Gabriel', 'INXS', 'Crowded_House', 'The_Tragically_Hip', 'Silverchair', 'Kings_of_Leon', 'The_Cranberries', 'The_Killers', 'Imagine_Dragons', 'Cold_Chisel', 'Awolnation', 'Twenty_One_Pilots', 'Goo_Goo_Dolls', 'The_Cars', 'Rise_Against', '311_(band)|311', 'The_Beatles', 'Phil_Collins', 'Dire_Straits', 'Five_Finger_Death_Punch', 'Hole_(band)|Hole', 'Rammstein', 'Thirty_Seconds_to_Mars', 'Puddle_of_Mudd', 'Billy_Talent', 'Our_Lady_Peace', 'Audioslave', 'The_Used', 'Muse_(band)|Muse', 'Chris_Cornell', 'Black_Stone_Cherry', 'Theory_of_a_Deadman', 'Lynyrd_Skynyrd', 'Shinedown', 'Halestorm', 'Highly_Suspect', 'Tracy_Chapman', \"Herman's_Hermits\", 'Morrissey', \"Manfred_Mann's_Earth_Band\", 'Manfred_Mann_Chapter_Three', 'The_Police', \"The_Lovin'_Spoonful\", 'Bad_Company', 'Icehouse_(band)|Icehouse', 'The_Pretenders', 'Journey_(band)|Journey', '10cc', 'The_Yardbirds', 'Simon_&_Garfunkel', 'The_Hollies', 'George_Harrison', 'ABBA', 'Steely_Dan', 'Toto_(band)|Toto', 'John_Mayall_&_the_Bluesbreakers', 'The_Band', 'Traffic_(band)|Traffic', 'Bee_Gees', 'Sheryl_Crow', 'Sting_(musician)|Sting', 'John_Mayer', 'Tom_Petty_and_the_Heartbreakers', 'Rod_Stewart', 'Buddy_Holly', 'Grateful_Dead', 'Arcade_Fire', 'Paramore', 'Starset', 'Jack_White', 'The_White_Stripes', 'Queens_of_the_Stone_Age', 'Queensrÿche', 'Blue_Öyster_Cult', 'Dio_(band)|Dio', 'Bachman–Turner_Overdrive', 'The_Guess_Who', 'Uriah_Heep_(band)|Uriah_Heep', 'Crosby,_Stills,_Nash_&_Young', 'Thin_Lizzy', 'April_Wine', 'Bryan_Adams', 'The_Doobie_Brothers', 'Modest_Mouse', 'A_Perfect_Circle', 'Robert_Plant', 'Iggy_Pop', 'Lou_Reed', 'Elvis_Costello', 'Everclear_(band)|Everclear', 'Bush_(British_band)|Bush', 'Snow_Patrol', 'Barenaked_Ladies', 'Matchbox_Twenty', 'No_Doubt', 'Evanescence', 'Charlie_Daniels', 'Steve_Vai', 'The_Marshall_Tucker_Band', 'The_Allman_Brothers_Band', 'Ian_Dury|Ian_Dury_&_the_Blockheads', 'Gene_Vincent', 'Small_Faces', 'Harry_Nilsson', 'Jerry_Lee_Lewis', 'Status_Quo_(band)|Status_Quo', 'Steve_Miller_Band', 'Florence_and_the_Machine|Florence_+_the_Machine', 'Blur_(band)|Blur', 'Jefferson_Airplane', 'Heart_(band)|Heart', 'Bring_Me_the_Horizon', 'The_Moody_Blues', 'Donovan', 'Genesis_(band)|Genesis', 'Bill_Haley_&_His_Comets', 'Chubby_Checker', 'Boston_(band)|Boston', 'Godsmack', 'Sonic_Youth', 'Dallas_Green_(musician)|City_and_Colour', 'Live_(band)|Live', 'Bloodhound_Gang', 'John_Mayall', 'Canned_Heat', 'The_Mothers_of_Invention', 'Chris_Rea', 'Harry_Chapin', 'Third_Eye_Blind', 'Joe_Cocker', 'ZZ_Top', 'Hootie_&_the_Blowfish', 'Dashboard_Confessional', 'Slade', 'Rob_Zombie', 'Little_River_Band', 'Fats_Domino', 'Billy_Idol', 'Linda_Ronstadt', 'Jackson_Browne', 'Billy_Squier', 'The_Kinks', 'The_Sweet|Sweet', 'Badfinger', 'Ghost_(Swedish_band)|Ghost', 'Interpol_(band)|Interpol', 'AFI_(band)|AFI', 'Foals_(band)|Foals', 'Lenny_Kravitz', 'James_Taylor', 'Coldplay', 'Crash_Test_Dummies', 'Fun_(band)|Fun.', 'Panic!_at_the_Disco', 'Thousand_Foot_Krutch', 'Papa_Roach', 'Daughtry_(band)|Daughtry', 'Blues_Traveler', 'The_Flaming_Lips', 'Cage_the_Elephant', 'The_Fray', 'Keane_(band)|Keane', 'Counting_Crows', 'Extreme_(band)|Extreme', 'Hall_&_Oates', 'Chicago_(band)|Chicago', 'The_Doors', 'Jeff_Buckley', 'Janis_Joplin', 'Jefferson_Starship', 'Starship_(band)|Starship', 'Ten_Years_After', 'Joy_Division', 'The_Monkees', 'Three_Dog_Night', 'The_Byrds', 'Duane_Eddy', 'Sublime_(band)|Sublime', 'Catfish_and_the_Bottlemen', 'Vampire_Weekend', 'Cake_(band)|Cake', 'Tenacious_D', 'The_Beach_Boys', 'James_Blunt', 'Adam_Ant', 'Lifehouse_(band)|Lifehouse', 'The_Animals', 'The_Fixx', 'Travis_(band)|Travis', 'Kaiser_Chiefs', 'The_Smiths', 'Joan_Jett|Joan_Jett_&_the_Blackhearts', 'The_Big_Bopper', 'Ritchie_Valens', 'Gary_Glitter', 'The_Strokes', 'The_Hives', 'Pat_Benatar', 'X_Ambassadors', 'Foster_the_People', 'Mumford_&_Sons', 'Edgar_Winter|The_Edgar_Winter_Group', 'The_Outfield', 'FireHouse', 'Europe_(band)|Europe', 'Melissa_Etheridge', 'The_Lumineers', 'Sublime_with_Rome', 'Saving_Abel', 'Pop_Evil', 'Collective_Soul', 'Ambrosia_(band)|Ambrosia', 'Living_Colour', 'Drowning_Pool', 'The_Pretty_Reckless', 'The_Black_Crowes', 'Arctic_Monkeys', 'Fuel_(band)|Fuel', 'The_Boxtones', 'Supertramp', 'Men_at_Work', 'Christopher_Cross', 'Air_Supply', 'Coheed_and_Cambria', 'Kansas_(band)|Kansas', 'Steppenwolf_(band)|Steppenwolf', 'Grand_Funk_Railroad', 'Greta_Van_Fleet', 'Loverboy', 'Montgomery_Gentry', 'Five_for_Fighting', 'Tommy_James_and_the_Shondells', 'Death_Cab_for_Cutie', 'Smokie_(band)|Smokie', 'The_Mamas_&_the_Papas', 'Gin_Blossoms', 'The_Cardigans', 'The_J._Geils_Band', 'Huey_Lewis_and_the_News', 'The_Cult', 'Everlast', 'The_Bangles', 'X_(American_band)', 'The_Everly_Brothers', 'Sixto_Rodriguez', 'Michael_Martin_Murphey', 'Blue_October', 'Mike_and_the_Mechanics|Mike_+_the_Mechanics', 'W.A.S.P._(band)', 'Blondie_(band)', 'The_Zombies', 'The_Presidents_of_the_United_States_of_America_(band)|The_Presidents_of_the_United_States_of_America', 'Saliva_(band)|Saliva', 'Bob_Seger|Bob_Seger_&_the_Silver_Bullet_Band', 'England_Dan_&_John_Ford_Coley', 'George_Thorogood|George_Thorogood_and_the_Destroyers', 'Golden_Earring', 'The_Black_Keys', 'Bay_City_Rollers', 'Sam_Fender', 'Smash_Mouth', 'The_Four_Seasons_(band)|The_Four_Seasons', 'UB40', 'Alice_Cooper_(band)', '38_Special_(band)|.38_Special', 'The_Verve', 'The_Jesus_and_Mary_Chain', 'Marilyn_Manson_(band)', \"The_Go-Go's\", 'The_Cab', 'Manfred_Mann_(musician)', 'Parliament_(band)', 'Traveling_Wilburys|The_Traveling_Wilburys', 'The_Alan_Parsons_Project', 'The_Stone_Roses', \"The_B-52's|The_B-52s\", 'Ben_Folds_Five', 'Chris_de_Burgh', 'The_Script', 'T._Rex_(band)'])\n",
      "[('the', 109), ('and', 57), ('of', 49), ('in', 45), ('funkadelic', 37), ('a', 37), ('s', 30), ('funk', 26), ('album', 23), ('was', 21), ('on', 19), ('as', 18), ('clinton', 18), ('by', 18), ('to', 17), ('parliament', 15), ('category', 15), ('groups', 13), ('rock', 12), ('band', 12)]\n"
     ]
    }
   ],
   "execution_count": 165
  },
  {
   "metadata": {},
   "cell_type": "markdown",
   "source": [
    "## Part 4.1.3: Calculating the sentiment of the Artists and Calculating Basic Metrics\n",
    "- **Q:** Download the LabMT wordlist. It's available as supplementary material from [Temporal Patterns of Happiness and Information in a Global Social Network: Hedonometrics and Twitter](http://journals.plos.org/plosone/article?id=10.1371/journal.pone.0026752) (Data Set S1).\n"
   ]
  },
  {
   "metadata": {
    "ExecuteTime": {
     "end_time": "2025-10-31T15:08:51.148979Z",
     "start_time": "2025-10-31T15:08:50.900934Z"
    }
   },
   "cell_type": "code",
   "source": [
    "# We have uploaded the Wordlist to our GitHub repository for easier access.\n",
    "url = \"https://raw.githubusercontent.com/hoboldi/Social-Graphs-and-Interactions/main/Misc/Sentiment_Data.txt\"\n",
    "wordlist = requests.get(url).text\n",
    "\n",
    "print(wordlist[:53])\n",
    "\n",
    "lines = wordlist.splitlines()[3:]\n",
    "\n",
    "labmt = {}\n",
    "for ln in lines:\n",
    "    ln = ln.strip()\n",
    "    if not ln or ln.startswith('#'):\n",
    "        continue\n",
    "    w, s = ln.split()[:2]\n",
    "    try:\n",
    "        labmt[w.lower()] = float(s)\n",
    "    except ValueError:\n",
    "        pass\n",
    "\n",
    "print(list(labmt.items())[:10])"
   ],
   "outputs": [
    {
     "name": "stdout",
     "output_type": "stream",
     "text": [
      "labMIT-1.0.txt\n",
      "language assessment by Mechanical Turk\n",
      "[('laughter', 1.0), ('happiness', 2.0), ('love', 3.0), ('happy', 4.0), ('laughed', 5.0), ('laugh', 6.0), ('laughing', 7.0), ('excellent', 8.0), ('laughs', 9.0), ('joy', 10.0)]\n"
     ]
    }
   ],
   "execution_count": 166
  },
  {
   "metadata": {},
   "cell_type": "markdown",
   "source": [
    "- **Q:** Describe briefly how the list was generated.\n",
    "- **A:** First, they composed a list of the most frequent words, these words were the combined list of most frequent words from Twitter, Google Books, Music Lyrics and the New York Times. Second, they used the crowdsourcing service of the Mechanical Turk where the users could vote on the \"happiness of the word\" based on a 1-9 scale where they could choose 1,3,5,7,9. The study avoided word preprocessings. The study als omitted completely neutral words like: \"the\", \"and\" or \"of\"."
   ]
  },
  {
   "metadata": {},
   "cell_type": "markdown",
   "source": "- **Q:** Based on the LabMT word list, write a function that calculates sentiment given a list of tokens (the tokens should be lower case, etc).\n"
  },
  {
   "metadata": {
    "ExecuteTime": {
     "end_time": "2025-10-31T15:08:53.228197Z",
     "start_time": "2025-10-31T15:08:53.225327Z"
    }
   },
   "cell_type": "code",
   "source": [
    "# The function which calculates the sentiment of a given list of tokens.\n",
    "def sentiment(counts, labmt, delta=1.0):\n",
    "    num = den = 0.0\n",
    "    for w, c in counts.items():\n",
    "        h = labmt.get(w)\n",
    "        if h is None:\n",
    "            continue\n",
    "\n",
    "        # Removing \"unimportant\" words (very neutral words)\n",
    "        if abs(h - 5.0) <= delta:\n",
    "            continue\n",
    "\n",
    "        num += c * h\n",
    "        den += c\n",
    "\n",
    "    return num / den if den > 0 else math.nan\n",
    "\n",
    "print(sentiment(list(tokenized_pages.values())[0],labmt))"
   ],
   "outputs": [
    {
     "name": "stdout",
     "output_type": "stream",
     "text": [
      "5076.217508417509\n"
     ]
    }
   ],
   "execution_count": 167
  },
  {
   "metadata": {},
   "cell_type": "markdown",
   "source": "- **Q:** Iterage over the nodes in your network, tokenize each page, and calculate sentiment every single page. Now you have sentiment as a new nodal property."
  },
  {
   "metadata": {
    "ExecuteTime": {
     "end_time": "2025-10-31T15:08:55.102509Z",
     "start_time": "2025-10-31T15:08:55.033281Z"
    }
   },
   "cell_type": "code",
   "source": [
    "sentiments = {artist: sentiment(tokenized_page, labmt) for artist, tokenized_page in tokenized_pages.items()}\n",
    "\n",
    "nx.set_node_attributes(G, sentiments, name='sentiment')"
   ],
   "outputs": [],
   "execution_count": 168
  },
  {
   "metadata": {},
   "cell_type": "markdown",
   "source": "- Calculate the average sentiment across all the pages. Also calculate the median, variance, 25th percentile, 75th percentile.\n"
  },
  {
   "metadata": {
    "ExecuteTime": {
     "end_time": "2025-10-31T15:12:21.153319Z",
     "start_time": "2025-10-31T15:12:21.149118Z"
    }
   },
   "cell_type": "code",
   "source": [
    "avg_sentiment = np.mean(list(sentiments.values()))\n",
    "\n",
    "print(f\"Average sentiment of the artists is: {avg_sentiment}\")\n",
    "\n",
    "median = np.median(list(sentiments.values()))\n",
    "\n",
    "print(f\"Median sentiment of the artists is: {median}\")\n",
    "\n",
    "variance = np.var(list(sentiments.values()))\n",
    "\n",
    "print(f\"Variance of the sentiments is: {variance}\")\n",
    "\n",
    "first_quartier = np.percentile(list(sentiments.values()),25)\n",
    "\n",
    "print(f\"The 25th percentile is: {first_quartier}\")\n",
    "\n",
    "third_quartier = np.percentile(list(sentiments.values()),75)\n",
    "\n",
    "print(f\"The 75th percentile is: {third_quartier}\")"
   ],
   "outputs": [
    {
     "name": "stdout",
     "output_type": "stream",
     "text": [
      "Average sentiment of the artists is: 4925.249205788728\n",
      "Median sentiment of the artists is: 4925.996990218209\n",
      "Variance of the sentiments is: 64660.54369995385\n",
      "The 25th percentile is: 4800.1942517165735\n",
      "The 75th percentile is: 5048.572903548605\n"
     ]
    }
   ],
   "execution_count": 173
  },
  {
   "metadata": {},
   "cell_type": "markdown",
   "source": "- Remember histograms? Create a histogram of all of the artists's associated page-sentiments. (And make it a nice histogram - use your histogram making skills from Week 2). Add the mean, meadian, ect from above to your plot."
  },
  {
   "metadata": {
    "ExecuteTime": {
     "end_time": "2025-10-31T15:19:33.949366Z",
     "start_time": "2025-10-31T15:19:33.860528Z"
    }
   },
   "cell_type": "code",
   "source": [
    "plt.figure(figsize=(12, 5))\n",
    "plt.hist(sentiments.values(), bins=30, color=\"skyblue\", edgecolor=\"black\")\n",
    "plt.title(\"The distribution of the artists' sentiment\")\n",
    "plt.xlabel(\"Sentiment Value\")\n",
    "plt.ylabel(\"Count\")\n",
    "\n",
    "# lines + IQR band using your names\n",
    "plt.axvline(avg_sentiment, color=\"red\", linewidth=2, label=\"Average\")\n",
    "plt.axvline(median, color=\"green\", linewidth=2, label=\"Median\")\n",
    "plt.axvline(first_quartier, color=\"orange\", linestyle=\"--\", linewidth=2, label=\"25th percentile (Q1)\")\n",
    "plt.axvline(third_quartier, color=\"orange\", linestyle=\"--\", linewidth=2, label=\"75th percentile (Q3)\")\n",
    "plt.axvspan(first_quartier, third_quartier, color=\"orange\", alpha=0.12, label=\"IQR\")\n",
    "\n",
    "# stats box (shows your variable names/values)\n",
    "stats_txt = (\n",
    "    f\"n = {len(sentiments.values())}\\n\"\n",
    "    f\"Average = {avg_sentiment:.3f}\\n\"\n",
    "    f\"Median = {median:.3f}\\n\"\n",
    "    f\"Variance = {variance:.3f}\\n\"\n",
    "    f\"25th (Q1) = {first_quartier:.3f}\\n\"\n",
    "    f\"75th (Q3) = {third_quartier:.3f}\"\n",
    ")\n",
    "plt.text(\n",
    "    0.98, 0.98, stats_txt,\n",
    "    transform=plt.gca().transAxes, ha=\"right\", va=\"top\",\n",
    "    bbox=dict(boxstyle=\"round,pad=0.4\", facecolor=\"white\", alpha=0.85)\n",
    ")\n",
    "\n",
    "plt.legend(loc=\"upper left\")\n",
    "plt.tight_layout()\n",
    "plt.show()"
   ],
   "outputs": [
    {
     "data": {
      "text/plain": [
       "<Figure size 1200x500 with 1 Axes>"
      ],
      "image/png": "[encoded data removed]"
     },
     "metadata": {},
     "output_type": "display_data"
    }
   ],
   "execution_count": 181
  },
  {
   "metadata": {},
   "cell_type": "markdown",
   "source": "- Who are the 10 artists with happiest and saddest pages?"
  },
  {
   "metadata": {
    "ExecuteTime": {
     "end_time": "2025-10-31T15:21:28.101988Z",
     "start_time": "2025-10-31T15:21:28.098739Z"
    }
   },
   "cell_type": "code",
   "source": [
    "lowest_10 = sorted(sentiments.items(), key=lambda x: x[1])[:10]\n",
    "\n",
    "print(\"The 10 artists with the lowest sentiment values:\")\n",
    "for artist, value in lowest_10:\n",
    "    print(f\"{artist}: {value:.3f}\")\n",
    "\n",
    "print()\n",
    "\n",
    "lowest_10 = sorted(sentiments.items(), key=lambda x: x[1])[-10:]\n",
    "\n",
    "print(\"The 10 artists with the highest sentiment values:\")\n",
    "for artist, value in lowest_10:\n",
    "    print(f\"{artist}: {value:.3f}\")"
   ],
   "outputs": [
    {
     "name": "stdout",
     "output_type": "stream",
     "text": [
      "The 10 artists with the lowest sentiment values:\n",
      "Paul_McCartney_and_Wings|Wings: 2745.000\n",
      "Scorpions_(band)|Scorpions: 3730.702\n",
      "Bo_Diddley: 3788.600\n",
      "Icehouse_(band)|Icehouse: 4175.346\n",
      "Queen_(band)|Queen: 4177.017\n",
      "Lifehouse_(band)|Lifehouse: 4178.239\n",
      "Survivor_(band)|Survivor: 4326.077\n",
      "Cold_Chisel: 4358.423\n",
      "Tracy_Chapman: 4431.367\n",
      "Edgar_Winter|The_Edgar_Winter_Group: 4460.173\n",
      "\n",
      "The 10 artists with the highest sentiment values:\n",
      "Warrant_(American_band)|Warrant: 5496.677\n",
      "Ambrosia_(band)|Ambrosia: 5527.304\n",
      "Saliva_(band)|Saliva: 5530.064\n",
      "Ghost_(Swedish_band)|Ghost: 5577.101\n",
      "Heart_(band)|Heart: 5624.920\n",
      "Traffic_(band)|Traffic: 5644.976\n",
      "Anthrax_(American_band)|Anthrax: 5673.278\n",
      "Poison_(American_band)|Poison: 5875.143\n",
      "10_Years_(band)|10_Years: 5919.000\n",
      "AC_DC: 6132.000\n"
     ]
    }
   ],
   "execution_count": 185
  },
  {
   "metadata": {},
   "cell_type": "markdown",
   "source": [
    "## Part 4.1.4: Sentiment Distribution\n",
    "*Exercise*: Sentiment distribution.\n",
    ">\n",
    "> * Download the LabMT wordlist. It's available as supplementary material from [Temporal Patterns of Happiness and Information in a Global Social Network: Hedonometrics and Twitter](http://journals.plos.org/plosone/article?id=10.1371/journal.pone.0026752) (Data Set S1). Describe briefly how the list was generated.\n",
    "> * Based on the LabMT word list, write a function that calculates sentiment given a list of tokens (the tokens should be lower case, etc).\n",
    "> * Iterage over the nodes in your network, tokenize each page, and calculate sentiment every single page. Now you have sentiment as a new nodal property.\n",
    "> * Calculate the average sentiment across all the pages. Also calculate the median, variance, 25th percentile, 75th percentile.\n",
    "> * Remember histograms? Create a histogram of all of the artists's associated page-sentiments. (And make it a nice histogram - use your histogram making skills from Week 2). Add the mean, meadian, ect from above to your plot.\n",
    "> * Who are the 10 artists with happiest and saddest pages?\n",
    "\n",
    "*Exercise*: Community sentiment distribution.\n",
    "\n",
    "> * Last week we calculated the stuctural communities of the graph. For this exercise, we use those communities (just the 10 largest ones). Specifically, you should calculate the average the average sentiment of the nodes in each community to find a *community level sentiment*.\n",
    ">   - Name each community by its three most connected bands. (Or feed the list of bands in each community and ask the LLM to come up with a good name for the community).\n",
    ">   - What are the three happiest communities?\n",
    ">   - what are the three saddest communities?\n",
    ">   - Do these results confirm what you can learn about each community by comparing to the genres, checking out the word-clouds for each community, and reading the wiki-pages?\n",
    "> * Compare the sentiment of the happiest and saddest communities to the overall (entire network) distribution of sentiment that you calculated in the previous exercise. Are the communities very differenct from the average? Or do you find the sentiment to be quite similar across all of the communities?\n",
    "\n",
    "**Note**: Calculating sentiment may take a long time, so arm yourself with patience as your code runs (remember to check that it runs correctly, before waiting patiently). Further, these tips may speed things up. And save somewhere, so you don't have to start over.\n",
    "\n",
    "**Tips for speed**\n",
    "* If you use `freqDist` prior to finding the sentiment, you only have to find it for every unique word and hereafter you can do a weighted mean.\n",
    "* More tips for speeding up loops https://wiki.python.org/moin/PythonSpeed/PerformanceTips#Loops"
   ]
  }
 ],
 "metadata": {
  "anaconda-cloud": {},
  "kernelspec": {
   "display_name": "Python 3 (ipykernel)",
   "language": "python",
   "name": "python3"
  },
  "language_info": {
   "codemirror_mode": {
    "name": "ipython",
    "version": 3
   },
   "file_extension": ".py",
   "mimetype": "text/x-python",
   "name": "python",
   "nbconvert_exporter": "python",
   "pygments_lexer": "ipython3",
   "version": "3.9.23"
  }
 },
 "nbformat": 4,
 "nbformat_minor": 4
}
